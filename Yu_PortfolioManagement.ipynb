{
 "cells": [
  {
   "cell_type": "markdown",
   "metadata": {
    "slideshow": {
     "slide_type": "-"
    }
   },
   "source": [
    "# Programming Assignment 1\n",
    "# MATH-UA 250 Mathematics of Finance\n",
    "# Portfolio Management"
   ]
  },
  {
   "cell_type": "code",
   "execution_count": 71,
   "metadata": {
    "scrolled": true
   },
   "outputs": [
    {
     "data": {
      "text/plain": [
       "sys.version_info(major=3, minor=8, micro=3, releaselevel='final', serial=0)"
      ]
     },
     "execution_count": 71,
     "metadata": {},
     "output_type": "execute_result"
    }
   ],
   "source": [
    "import sys\n",
    "sys.version\n",
    "sys.version_info"
   ]
  },
  {
   "cell_type": "markdown",
   "metadata": {},
   "source": [
    "\n",
    "# Useful Python code\n",
    "\n",
    "https://pandas.pydata.org/pandas-docs/stable/10min.html\n",
    "https://pandas.pydata.org/pandas-docs/stable/visualization.html\n"
   ]
  },
  {
   "cell_type": "code",
   "execution_count": 72,
   "metadata": {},
   "outputs": [],
   "source": [
    "%matplotlib inline\n",
    "\n",
    "import matplotlib\n",
    "import numpy as np\n",
    "import matplotlib.pyplot as plt\n",
    "import pandas as pd"
   ]
  },
  {
   "cell_type": "markdown",
   "metadata": {},
   "source": [
    "#  File Contents\n",
    "Returns to the following asset classes are contained in the file\n",
    " * \"MSCI WORLD\"\n",
    " * \"MSCI AC WORLD\"    \n",
    " * \"MSCI EUROPE\"\n",
    " * \"MSCI EM\"\n",
    " * \"MSCI EAFE\"        \n",
    " * \"MSCI PACIFIC\"\n",
    " * \"MSCI USA\"\n",
    " * \"Treasury.Bond.10Y\"\n",
    " * \"Treasury.Bill.90D\"\n",
    "\n",
    "\n",
    " <span style=\"color:blue\">Our set of risky assets for the analysis is  MSCI EUROPE, MSCI USA , MSCI PACIFIC, Treasury.Bond.10Y </span>\n"
   ]
  },
  {
   "cell_type": "code",
   "execution_count": 73,
   "metadata": {},
   "outputs": [],
   "source": [
    "# Read in the data from computer\n",
    "# inpath  = \"C:\\\\Users\\\\hanna\\\\OneDrive\\\\Desktop\\\\MathFinance\\\\\"\n",
    "# infile  = \"ReturnsPortfolios.csv\"\n",
    "# print(inpath+infile)\n",
    "# indata = pd.read_csv(inpath + infile)\n",
    "\n",
    "# Alternatively, read data from online\n",
    "url = 'https://raw.githubusercontent.com/hannayu/Math-Finance/main/ReturnsPortfolios.csv'\n",
    "indata = pd.read_csv(url)"
   ]
  },
  {
   "cell_type": "code",
   "execution_count": 74,
   "metadata": {},
   "outputs": [
    {
     "data": {
      "text/html": [
       "<div>\n",
       "<style scoped>\n",
       "    .dataframe tbody tr th:only-of-type {\n",
       "        vertical-align: middle;\n",
       "    }\n",
       "\n",
       "    .dataframe tbody tr th {\n",
       "        vertical-align: top;\n",
       "    }\n",
       "\n",
       "    .dataframe thead th {\n",
       "        text-align: right;\n",
       "    }\n",
       "</style>\n",
       "<table border=\"1\" class=\"dataframe\">\n",
       "  <thead>\n",
       "    <tr style=\"text-align: right;\">\n",
       "      <th></th>\n",
       "      <th>Date</th>\n",
       "      <th>MSCI WORLD</th>\n",
       "      <th>MSCI AC WORLD</th>\n",
       "      <th>MSCI EUROPE</th>\n",
       "      <th>MSCI EM</th>\n",
       "      <th>MSCI EAFE</th>\n",
       "      <th>MSCI PACIFIC</th>\n",
       "      <th>MSCI USA</th>\n",
       "      <th>Treasury.Bond.10Y</th>\n",
       "      <th>Treasury.Bill.90D</th>\n",
       "      <th>Treasury.Bill.30D</th>\n",
       "    </tr>\n",
       "  </thead>\n",
       "  <tbody>\n",
       "    <tr>\n",
       "      <th>0</th>\n",
       "      <td>1/29/1988</td>\n",
       "      <td>0.024592</td>\n",
       "      <td>0.025330</td>\n",
       "      <td>-0.040626</td>\n",
       "      <td>0.098380</td>\n",
       "      <td>0.018081</td>\n",
       "      <td>0.049747</td>\n",
       "      <td>0.042834</td>\n",
       "      <td>0.044235</td>\n",
       "      <td>0.005001</td>\n",
       "      <td>0.002762</td>\n",
       "    </tr>\n",
       "    <tr>\n",
       "      <th>1</th>\n",
       "      <td>2/29/1988</td>\n",
       "      <td>0.058224</td>\n",
       "      <td>0.058079</td>\n",
       "      <td>0.059266</td>\n",
       "      <td>0.003396</td>\n",
       "      <td>0.066914</td>\n",
       "      <td>0.070676</td>\n",
       "      <td>0.041869</td>\n",
       "      <td>0.013917</td>\n",
       "      <td>0.005349</td>\n",
       "      <td>0.004564</td>\n",
       "    </tr>\n",
       "    <tr>\n",
       "      <th>2</th>\n",
       "      <td>3/31/1988</td>\n",
       "      <td>0.030382</td>\n",
       "      <td>0.031100</td>\n",
       "      <td>0.027948</td>\n",
       "      <td>0.107385</td>\n",
       "      <td>0.061675</td>\n",
       "      <td>0.078041</td>\n",
       "      <td>-0.033456</td>\n",
       "      <td>-0.019930</td>\n",
       "      <td>0.004803</td>\n",
       "      <td>0.004402</td>\n",
       "    </tr>\n",
       "    <tr>\n",
       "      <th>3</th>\n",
       "      <td>4/29/1988</td>\n",
       "      <td>0.012798</td>\n",
       "      <td>0.012980</td>\n",
       "      <td>0.019014</td>\n",
       "      <td>0.053382</td>\n",
       "      <td>0.014717</td>\n",
       "      <td>0.012751</td>\n",
       "      <td>0.009184</td>\n",
       "      <td>-0.012511</td>\n",
       "      <td>0.004554</td>\n",
       "      <td>0.004577</td>\n",
       "    </tr>\n",
       "    <tr>\n",
       "      <th>4</th>\n",
       "      <td>5/31/1988</td>\n",
       "      <td>-0.019802</td>\n",
       "      <td>-0.019521</td>\n",
       "      <td>-0.018278</td>\n",
       "      <td>0.029962</td>\n",
       "      <td>-0.031833</td>\n",
       "      <td>-0.038039</td>\n",
       "      <td>0.008603</td>\n",
       "      <td>-0.015848</td>\n",
       "      <td>0.005027</td>\n",
       "      <td>0.005051</td>\n",
       "    </tr>\n",
       "  </tbody>\n",
       "</table>\n",
       "</div>"
      ],
      "text/plain": [
       "        Date  MSCI WORLD  MSCI AC WORLD  MSCI EUROPE   MSCI EM  MSCI EAFE  \\\n",
       "0  1/29/1988    0.024592       0.025330    -0.040626  0.098380   0.018081   \n",
       "1  2/29/1988    0.058224       0.058079     0.059266  0.003396   0.066914   \n",
       "2  3/31/1988    0.030382       0.031100     0.027948  0.107385   0.061675   \n",
       "3  4/29/1988    0.012798       0.012980     0.019014  0.053382   0.014717   \n",
       "4  5/31/1988   -0.019802      -0.019521    -0.018278  0.029962  -0.031833   \n",
       "\n",
       "   MSCI PACIFIC  MSCI USA  Treasury.Bond.10Y  Treasury.Bill.90D  \\\n",
       "0      0.049747  0.042834           0.044235           0.005001   \n",
       "1      0.070676  0.041869           0.013917           0.005349   \n",
       "2      0.078041 -0.033456          -0.019930           0.004803   \n",
       "3      0.012751  0.009184          -0.012511           0.004554   \n",
       "4     -0.038039  0.008603          -0.015848           0.005027   \n",
       "\n",
       "   Treasury.Bill.30D  \n",
       "0           0.002762  \n",
       "1           0.004564  \n",
       "2           0.004402  \n",
       "3           0.004577  \n",
       "4           0.005051  "
      ]
     },
     "execution_count": 74,
     "metadata": {},
     "output_type": "execute_result"
    }
   ],
   "source": [
    "indata.head(5)"
   ]
  },
  {
   "cell_type": "code",
   "execution_count": 75,
   "metadata": {},
   "outputs": [],
   "source": [
    "RiskyAsset     = [\"MSCI EUROPE\",\"MSCI USA\",\"MSCI PACIFIC\",\"Treasury.Bond.10Y\"]\n",
    "RiskFreeAsset  = \"Treasury.Bill.90D\""
   ]
  },
  {
   "cell_type": "code",
   "execution_count": 76,
   "metadata": {},
   "outputs": [
    {
     "data": {
      "text/html": [
       "<div>\n",
       "<style scoped>\n",
       "    .dataframe tbody tr th:only-of-type {\n",
       "        vertical-align: middle;\n",
       "    }\n",
       "\n",
       "    .dataframe tbody tr th {\n",
       "        vertical-align: top;\n",
       "    }\n",
       "\n",
       "    .dataframe thead th {\n",
       "        text-align: right;\n",
       "    }\n",
       "</style>\n",
       "<table border=\"1\" class=\"dataframe\">\n",
       "  <thead>\n",
       "    <tr style=\"text-align: right;\">\n",
       "      <th></th>\n",
       "      <th>MSCI EUROPE</th>\n",
       "      <th>MSCI USA</th>\n",
       "      <th>MSCI PACIFIC</th>\n",
       "      <th>Treasury.Bond.10Y</th>\n",
       "    </tr>\n",
       "  </thead>\n",
       "  <tbody>\n",
       "    <tr>\n",
       "      <th>1</th>\n",
       "      <td>0.059266</td>\n",
       "      <td>0.041869</td>\n",
       "      <td>0.070676</td>\n",
       "      <td>0.013917</td>\n",
       "    </tr>\n",
       "    <tr>\n",
       "      <th>2</th>\n",
       "      <td>0.027948</td>\n",
       "      <td>-0.033456</td>\n",
       "      <td>0.078041</td>\n",
       "      <td>-0.019930</td>\n",
       "    </tr>\n",
       "    <tr>\n",
       "      <th>3</th>\n",
       "      <td>0.019014</td>\n",
       "      <td>0.009184</td>\n",
       "      <td>0.012751</td>\n",
       "      <td>-0.012511</td>\n",
       "    </tr>\n",
       "  </tbody>\n",
       "</table>\n",
       "</div>"
      ],
      "text/plain": [
       "   MSCI EUROPE  MSCI USA  MSCI PACIFIC  Treasury.Bond.10Y\n",
       "1     0.059266  0.041869      0.070676           0.013917\n",
       "2     0.027948 -0.033456      0.078041          -0.019930\n",
       "3     0.019014  0.009184      0.012751          -0.012511"
      ]
     },
     "execution_count": 76,
     "metadata": {},
     "output_type": "execute_result"
    }
   ],
   "source": [
    "# print out first 3 rows and all columns of risky assets\n",
    "indata.loc[1:3,RiskyAsset]"
   ]
  },
  {
   "cell_type": "markdown",
   "metadata": {},
   "source": [
    "\n",
    "## <span style=\"color:blue\">Part 1: Risky Assets Analysis</span>\n",
    "\n",
    " Create a table calculating 1-6 for the risky assets:\n",
    "1.  mean\n",
    "2.\tmedian\n",
    "3.\tstandard deviations \n",
    "4.\tskew \n",
    "5.\tkurtosis\n",
    "6.  return - risk ratio \n",
    "\n",
    "Plot the assets classes on a return - risk graph.\n",
    "Write up a paragraph comparing the statistics of the risky assets.\n"
   ]
  },
  {
   "cell_type": "code",
   "execution_count": 77,
   "metadata": {
    "scrolled": true
   },
   "outputs": [
    {
     "data": {
      "text/html": [
       "<div>\n",
       "<style scoped>\n",
       "    .dataframe tbody tr th:only-of-type {\n",
       "        vertical-align: middle;\n",
       "    }\n",
       "\n",
       "    .dataframe tbody tr th {\n",
       "        vertical-align: top;\n",
       "    }\n",
       "\n",
       "    .dataframe thead th {\n",
       "        text-align: right;\n",
       "    }\n",
       "</style>\n",
       "<table border=\"1\" class=\"dataframe\">\n",
       "  <thead>\n",
       "    <tr style=\"text-align: right;\">\n",
       "      <th></th>\n",
       "      <th>MSCI EUROPE</th>\n",
       "      <th>MSCI USA</th>\n",
       "      <th>MSCI PACIFIC</th>\n",
       "      <th>Treasury.Bond.10Y</th>\n",
       "    </tr>\n",
       "  </thead>\n",
       "  <tbody>\n",
       "    <tr>\n",
       "      <th>mean</th>\n",
       "      <td>0.007798</td>\n",
       "      <td>0.009155</td>\n",
       "      <td>0.003608</td>\n",
       "      <td>0.005627</td>\n",
       "    </tr>\n",
       "    <tr>\n",
       "      <th>median</th>\n",
       "      <td>0.010439</td>\n",
       "      <td>0.012908</td>\n",
       "      <td>0.001994</td>\n",
       "      <td>0.005221</td>\n",
       "    </tr>\n",
       "    <tr>\n",
       "      <th>standard deviation</th>\n",
       "      <td>0.049996</td>\n",
       "      <td>0.041358</td>\n",
       "      <td>0.055957</td>\n",
       "      <td>0.019887</td>\n",
       "    </tr>\n",
       "    <tr>\n",
       "      <th>skew</th>\n",
       "      <td>-0.487418</td>\n",
       "      <td>-0.565864</td>\n",
       "      <td>0.003849</td>\n",
       "      <td>-0.009944</td>\n",
       "    </tr>\n",
       "    <tr>\n",
       "      <th>kurtosis</th>\n",
       "      <td>1.274753</td>\n",
       "      <td>1.218349</td>\n",
       "      <td>0.874957</td>\n",
       "      <td>0.839616</td>\n",
       "    </tr>\n",
       "    <tr>\n",
       "      <th>return-risk ratio</th>\n",
       "      <td>0.155978</td>\n",
       "      <td>0.221373</td>\n",
       "      <td>0.064470</td>\n",
       "      <td>0.282970</td>\n",
       "    </tr>\n",
       "  </tbody>\n",
       "</table>\n",
       "</div>"
      ],
      "text/plain": [
       "                    MSCI EUROPE  MSCI USA  MSCI PACIFIC  Treasury.Bond.10Y\n",
       "mean                   0.007798  0.009155      0.003608           0.005627\n",
       "median                 0.010439  0.012908      0.001994           0.005221\n",
       "standard deviation     0.049996  0.041358      0.055957           0.019887\n",
       "skew                  -0.487418 -0.565864      0.003849          -0.009944\n",
       "kurtosis               1.274753  1.218349      0.874957           0.839616\n",
       "return-risk ratio      0.155978  0.221373      0.064470           0.282970"
      ]
     },
     "execution_count": 77,
     "metadata": {},
     "output_type": "execute_result"
    }
   ],
   "source": [
    "#1 mean\n",
    "AnalysisTable = pd.DataFrame(data = indata[RiskyAsset].mean(), \n",
    "                             columns = ['mean']).T\n",
    "\n",
    "#2 median\n",
    "median = pd.DataFrame(data = indata[RiskyAsset].median(), \n",
    "                      columns = ['median']).T\n",
    "AnalysisTable = AnalysisTable.append(median)\n",
    "\n",
    "#3 standard deviations\n",
    "std = pd.DataFrame(data = indata[RiskyAsset].std(), \n",
    "                   columns = ['standard deviation']).T\n",
    "AnalysisTable = AnalysisTable.append(std)\n",
    "\n",
    "#4 skew\n",
    "skew = pd.DataFrame(data = indata[RiskyAsset].skew(), \n",
    "                    columns = ['skew']).T\n",
    "AnalysisTable = AnalysisTable.append(skew)\n",
    "\n",
    "#5 kurtosis\n",
    "kurtosis = pd.DataFrame(data = indata[RiskyAsset].kurtosis(), \n",
    "                        columns = ['kurtosis']).T\n",
    "AnalysisTable = AnalysisTable.append(kurtosis)\n",
    "\n",
    "# 6 return-risk ratio\n",
    "rr = pd.DataFrame(data = indata[RiskyAsset].mean()/\n",
    "                        indata[RiskyAsset].std(), columns = ['return-risk ratio']).T\n",
    "AnalysisTable = AnalysisTable.append(rr)\n",
    "\n",
    "AnalysisTable"
   ]
  },
  {
   "cell_type": "code",
   "execution_count": 78,
   "metadata": {},
   "outputs": [
    {
     "data": {
      "text/plain": [
       "<matplotlib.legend.Legend at 0x22f47c300a0>"
      ]
     },
     "execution_count": 78,
     "metadata": {},
     "output_type": "execute_result"
    },
    {
     "data": {
      "image/png": "[encoded data removed]",
      "text/plain": [
       "<Figure size 432x288 with 1 Axes>"
      ]
     },
     "metadata": {
      "needs_background": "light"
     },
     "output_type": "display_data"
    }
   ],
   "source": [
    "#7 plot the assets classes on a return-risk graph\n",
    "plt.plot(indata[\"MSCI EUROPE\"].std(), indata[\"MSCI EUROPE\"].mean(), 'ko', label='MSCI EUROPE')\n",
    "plt.plot(indata[\"MSCI USA\"].std(), indata[\"MSCI USA\"].mean(), 'ro', label='MSCI USA')\n",
    "plt.plot(indata[\"MSCI PACIFIC\"].std(), indata[\"MSCI PACIFIC\"].mean(), 'bo', label='MSCI PACIFIC')\n",
    "plt.plot(indata[\"Treasury.Bond.10Y\"].std(), indata[\"Treasury.Bond.10Y\"].mean(), 'go', label='Treasury.Bond.10Y')\n",
    "\n",
    "plt.xlabel('Risk')\n",
    "plt.ylabel('Return')\n",
    "plt.legend()"
   ]
  },
  {
   "cell_type": "markdown",
   "metadata": {},
   "source": [
    "Comparing the statistics of the risky assets:\n",
    "\n",
    "The 10-year Treasury bond has the lowest risk among our assets. MSCI Pacific has the highest risk and also the lowest mean return, making it an unfavorable investment. MSCI USA brings the highest mean return.\n",
    "\n",
    "The skew of a distribution is a measure of how symmetric the distribution is. The normal distribution has a skew of 0. Among our asset classes, MSCI Pacific has the skew closest to 0, so it is the most symmetric. To be specific, the kurtosis we calculated is in fact the excess kurtosis. The excess kurtosis for a standard normal distribution is 0. Positive kurtosis means a distribution is heavy-tailed while negative kurtosis means a distrubution is light-tailed. All our asset class distrubutions are positive. The most heavy-tailed is MSCI Europe."
   ]
  },
  {
   "cell_type": "markdown",
   "metadata": {},
   "source": [
    "\n",
    "## <span style=\"color:blue\">Part 2:  Distributions </span>\n",
    "Plot the distributions for each asset class\n",
    "\n",
    "Compare the distribution"
   ]
  },
  {
   "cell_type": "code",
   "execution_count": 79,
   "metadata": {
    "scrolled": true
   },
   "outputs": [
    {
     "data": {
      "text/plain": [
       "<matplotlib.axes._subplots.AxesSubplot at 0x22f47c7ca30>"
      ]
     },
     "execution_count": 79,
     "metadata": {},
     "output_type": "execute_result"
    },
    {
     "data": {
      "image/png": "[encoded data removed]",
      "text/plain": [
       "<Figure size 432x288 with 1 Axes>"
      ]
     },
     "metadata": {
      "needs_background": "light"
     },
     "output_type": "display_data"
    }
   ],
   "source": [
    "indata[\"MSCI EUROPE\"].plot.hist(stacked=True, bins=20)"
   ]
  },
  {
   "cell_type": "code",
   "execution_count": 80,
   "metadata": {},
   "outputs": [
    {
     "data": {
      "text/plain": [
       "<matplotlib.axes._subplots.AxesSubplot at 0x22f47d02190>"
      ]
     },
     "execution_count": 80,
     "metadata": {},
     "output_type": "execute_result"
    },
    {
     "data": {
      "image/png": "[encoded data removed]",
      "text/plain": [
       "<Figure size 432x288 with 1 Axes>"
      ]
     },
     "metadata": {
      "needs_background": "light"
     },
     "output_type": "display_data"
    }
   ],
   "source": [
    "indata[\"MSCI USA\"].plot.hist(stacked=True, bins=20)"
   ]
  },
  {
   "cell_type": "code",
   "execution_count": 81,
   "metadata": {},
   "outputs": [
    {
     "data": {
      "text/plain": [
       "<matplotlib.axes._subplots.AxesSubplot at 0x22f47d7f280>"
      ]
     },
     "execution_count": 81,
     "metadata": {},
     "output_type": "execute_result"
    },
    {
     "data": {
      "image/png": "[encoded data removed]",
      "text/plain": [
       "<Figure size 432x288 with 1 Axes>"
      ]
     },
     "metadata": {
      "needs_background": "light"
     },
     "output_type": "display_data"
    }
   ],
   "source": [
    "indata[\"MSCI PACIFIC\"].plot.hist(stacked=True, bins=20)"
   ]
  },
  {
   "cell_type": "code",
   "execution_count": 82,
   "metadata": {},
   "outputs": [
    {
     "data": {
      "text/plain": [
       "<matplotlib.axes._subplots.AxesSubplot at 0x22f47d5e700>"
      ]
     },
     "execution_count": 82,
     "metadata": {},
     "output_type": "execute_result"
    },
    {
     "data": {
      "image/png": "[encoded data removed]",
      "text/plain": [
       "<Figure size 432x288 with 1 Axes>"
      ]
     },
     "metadata": {
      "needs_background": "light"
     },
     "output_type": "display_data"
    }
   ],
   "source": [
    "indata[\"Treasury.Bond.10Y\"].plot.hist(stacked=True, bins=20)"
   ]
  },
  {
   "cell_type": "markdown",
   "metadata": {},
   "source": [
    "## <span style=\"color:blue\"> Part 3: Covariance and Correlation Matrices  </span>\n",
    "\n",
    " 1.\tCalculate the covariance matrix \n",
    " 2. Calculate the correlation matrix\n",
    " 3.\tVerify the covariance matrix is non-singular\n",
    " 4.\tVerify the covariance matrix is symmetric and positive definite\n"
   ]
  },
  {
   "cell_type": "code",
   "execution_count": 83,
   "metadata": {},
   "outputs": [
    {
     "data": {
      "text/html": [
       "<div>\n",
       "<style scoped>\n",
       "    .dataframe tbody tr th:only-of-type {\n",
       "        vertical-align: middle;\n",
       "    }\n",
       "\n",
       "    .dataframe tbody tr th {\n",
       "        vertical-align: top;\n",
       "    }\n",
       "\n",
       "    .dataframe thead th {\n",
       "        text-align: right;\n",
       "    }\n",
       "</style>\n",
       "<table border=\"1\" class=\"dataframe\">\n",
       "  <thead>\n",
       "    <tr style=\"text-align: right;\">\n",
       "      <th></th>\n",
       "      <th>MSCI EUROPE</th>\n",
       "      <th>MSCI USA</th>\n",
       "      <th>MSCI PACIFIC</th>\n",
       "      <th>Treasury.Bond.10Y</th>\n",
       "    </tr>\n",
       "  </thead>\n",
       "  <tbody>\n",
       "    <tr>\n",
       "      <th>MSCI EUROPE</th>\n",
       "      <td>0.002500</td>\n",
       "      <td>0.001616</td>\n",
       "      <td>0.001813</td>\n",
       "      <td>-0.000097</td>\n",
       "    </tr>\n",
       "    <tr>\n",
       "      <th>MSCI USA</th>\n",
       "      <td>0.001616</td>\n",
       "      <td>0.001710</td>\n",
       "      <td>0.001247</td>\n",
       "      <td>-0.000039</td>\n",
       "    </tr>\n",
       "    <tr>\n",
       "      <th>MSCI PACIFIC</th>\n",
       "      <td>0.001813</td>\n",
       "      <td>0.001247</td>\n",
       "      <td>0.003131</td>\n",
       "      <td>-0.000035</td>\n",
       "    </tr>\n",
       "    <tr>\n",
       "      <th>Treasury.Bond.10Y</th>\n",
       "      <td>-0.000097</td>\n",
       "      <td>-0.000039</td>\n",
       "      <td>-0.000035</td>\n",
       "      <td>0.000395</td>\n",
       "    </tr>\n",
       "  </tbody>\n",
       "</table>\n",
       "</div>"
      ],
      "text/plain": [
       "                   MSCI EUROPE  MSCI USA  MSCI PACIFIC  Treasury.Bond.10Y\n",
       "MSCI EUROPE           0.002500  0.001616      0.001813          -0.000097\n",
       "MSCI USA              0.001616  0.001710      0.001247          -0.000039\n",
       "MSCI PACIFIC          0.001813  0.001247      0.003131          -0.000035\n",
       "Treasury.Bond.10Y    -0.000097 -0.000039     -0.000035           0.000395"
      ]
     },
     "execution_count": 83,
     "metadata": {},
     "output_type": "execute_result"
    }
   ],
   "source": [
    "#1\n",
    "covariance = indata[RiskyAsset].cov()\n",
    "covariance"
   ]
  },
  {
   "cell_type": "code",
   "execution_count": 84,
   "metadata": {},
   "outputs": [
    {
     "data": {
      "text/html": [
       "<div>\n",
       "<style scoped>\n",
       "    .dataframe tbody tr th:only-of-type {\n",
       "        vertical-align: middle;\n",
       "    }\n",
       "\n",
       "    .dataframe tbody tr th {\n",
       "        vertical-align: top;\n",
       "    }\n",
       "\n",
       "    .dataframe thead th {\n",
       "        text-align: right;\n",
       "    }\n",
       "</style>\n",
       "<table border=\"1\" class=\"dataframe\">\n",
       "  <thead>\n",
       "    <tr style=\"text-align: right;\">\n",
       "      <th></th>\n",
       "      <th>MSCI EUROPE</th>\n",
       "      <th>MSCI USA</th>\n",
       "      <th>MSCI PACIFIC</th>\n",
       "      <th>Treasury.Bond.10Y</th>\n",
       "    </tr>\n",
       "  </thead>\n",
       "  <tbody>\n",
       "    <tr>\n",
       "      <th>MSCI EUROPE</th>\n",
       "      <td>1.000000</td>\n",
       "      <td>0.781742</td>\n",
       "      <td>0.647950</td>\n",
       "      <td>-0.097888</td>\n",
       "    </tr>\n",
       "    <tr>\n",
       "      <th>MSCI USA</th>\n",
       "      <td>0.781742</td>\n",
       "      <td>1.000000</td>\n",
       "      <td>0.538701</td>\n",
       "      <td>-0.047390</td>\n",
       "    </tr>\n",
       "    <tr>\n",
       "      <th>MSCI PACIFIC</th>\n",
       "      <td>0.647950</td>\n",
       "      <td>0.538701</td>\n",
       "      <td>1.000000</td>\n",
       "      <td>-0.031418</td>\n",
       "    </tr>\n",
       "    <tr>\n",
       "      <th>Treasury.Bond.10Y</th>\n",
       "      <td>-0.097888</td>\n",
       "      <td>-0.047390</td>\n",
       "      <td>-0.031418</td>\n",
       "      <td>1.000000</td>\n",
       "    </tr>\n",
       "  </tbody>\n",
       "</table>\n",
       "</div>"
      ],
      "text/plain": [
       "                   MSCI EUROPE  MSCI USA  MSCI PACIFIC  Treasury.Bond.10Y\n",
       "MSCI EUROPE           1.000000  0.781742      0.647950          -0.097888\n",
       "MSCI USA              0.781742  1.000000      0.538701          -0.047390\n",
       "MSCI PACIFIC          0.647950  0.538701      1.000000          -0.031418\n",
       "Treasury.Bond.10Y    -0.097888 -0.047390     -0.031418           1.000000"
      ]
     },
     "execution_count": 84,
     "metadata": {},
     "output_type": "execute_result"
    }
   ],
   "source": [
    "#2\n",
    "correlation = indata[RiskyAsset].corr()\n",
    "correlation"
   ]
  },
  {
   "cell_type": "code",
   "execution_count": 85,
   "metadata": {},
   "outputs": [
    {
     "data": {
      "text/plain": [
       "1.1732008469285679e-12"
      ]
     },
     "execution_count": 85,
     "metadata": {},
     "output_type": "execute_result"
    }
   ],
   "source": [
    "#3 Verify the covariance matrix is non-singular (determinant is positive)\n",
    "np.linalg.det(covariance)"
   ]
  },
  {
   "cell_type": "code",
   "execution_count": 86,
   "metadata": {},
   "outputs": [
    {
     "name": "stdout",
     "output_type": "stream",
     "text": [
      "1.1732008469285679e-12\n",
      "3.0064730764628797e-09\n",
      "1.6626298326831731e-06\n",
      "0.0024995822500577585\n"
     ]
    }
   ],
   "source": [
    "#4 Verify the covariance matrix is symmetric and positive definite\n",
    "print(np.linalg.det(covariance))\n",
    "print(np.linalg.det(covariance.loc[[\"MSCI EUROPE\",\"MSCI USA\",\"MSCI PACIFIC\"],[\"MSCI EUROPE\",\"MSCI USA\",\"MSCI PACIFIC\"]]))\n",
    "print(np.linalg.det(covariance.loc[[\"MSCI EUROPE\",\"MSCI USA\"],[\"MSCI EUROPE\",\"MSCI USA\"]]))\n",
    "print(np.linalg.det(covariance.loc[[\"MSCI EUROPE\"],[\"MSCI EUROPE\"]]))"
   ]
  },
  {
   "cell_type": "markdown",
   "metadata": {},
   "source": [
    "We know by observation that the covariance matrix is symmetric. A symmetric matrix is positive definite if all upper left kxk determinants of a symmetric matrix are positive. The values in the output show that they are."
   ]
  },
  {
   "cell_type": "markdown",
   "metadata": {},
   "source": [
    "## <span style=\"color:blue\">Part 4: Calculate the weights, returns and risks for the following portfolios     </span>\n",
    " 1.\tMinimum variance portfolio\n",
    " 2. Portfolio with expected return of 9% and minimum variance\n",
    " 3. Efficicent frontier (calculate the weights, returns and risk of at least 7 portfolios)\n",
    " 4. Plot the portfolios and asset classes on a graph\n",
    " 5. Plot an equal weighted portolio on the graph\n",
    " 6. What is the expected return and risk of the minimum variance portfolio\n",
    "  "
   ]
  },
  {
   "cell_type": "code",
   "execution_count": 87,
   "metadata": {},
   "outputs": [
    {
     "name": "stdout",
     "output_type": "stream",
     "text": [
      "weights = [[0.05030877 0.12979729 0.02500862 0.79488532]]\n",
      "return = 0.006143974980755603\n",
      "risk = 0.01742209834422105\n"
     ]
    }
   ],
   "source": [
    "# 1. Minimum variance portfolio\n",
    "\n",
    "C = covariance.to_numpy()\n",
    "u = np.array([[1, 1, 1, 1]])\n",
    "C_inv = np.linalg.inv(C)\n",
    "numerator = np.matmul(u,C_inv)\n",
    "denominator = np.matmul(u,np.matmul(C_inv,u.transpose()))\n",
    "\n",
    "w = numerator/denominator # weights\n",
    "print(\"weights =\", w)\n",
    "\n",
    "m = (indata[RiskyAsset].mean()).to_numpy()\n",
    "m = np.array([m])\n",
    "r = np.matmul(w,m.transpose())[0,0]\n",
    "print(\"return =\", r)\n",
    "\n",
    "var = np.matmul(w,np.matmul(C,w.transpose()))\n",
    "sigma = np.sqrt(var)[0,0]\n",
    "print(\"risk =\", sigma)"
   ]
  },
  {
   "cell_type": "code",
   "execution_count": 88,
   "metadata": {},
   "outputs": [
    {
     "name": "stdout",
     "output_type": "stream",
     "text": [
      "weights: [[  0.66036403  16.99526494 -11.37623988  -5.27938909]]\n",
      "sum of weights: 1.0000000000000053\n",
      "mean: 0.08999999999999991\n"
     ]
    }
   ],
   "source": [
    "# 2. Portfolio with expected return of 9% (mu = 0.09) and minimum variance\n",
    "\n",
    "# Find lamdas\n",
    "a = np.matmul(m,np.matmul(C_inv, m.transpose()))[0,0]\n",
    "b = np.matmul(u,np.matmul(C_inv, m.transpose()))[0,0]\n",
    "c = np.matmul(m,np.matmul(C_inv, u.transpose()))[0,0]\n",
    "d = np.matmul(u,np.matmul(C_inv, u.transpose()))[0,0]\n",
    "M = np.array([[a, b], [c, d]])\n",
    "M_inv = np.linalg.inv(M)\n",
    "lambdas = np.matmul(M_inv, np.array([[0.09],[1]]))*2\n",
    "lambda1 = lambdas[0,0]\n",
    "lambda2 = lambdas[1,0]\n",
    "\n",
    "# Calculate weights\n",
    "weights = (lambda1*np.matmul(m,C_inv) + lambda2*np.matmul(u,C_inv))/2\n",
    "print(\"weights:\", weights)\n",
    "\n",
    "# Verify\n",
    "print(\"sum of weights:\", np.sum(weights))\n",
    "print(\"mean:\", np.matmul(weights,m.transpose())[0,0])"
   ]
  },
  {
   "cell_type": "code",
   "execution_count": 89,
   "metadata": {},
   "outputs": [
    {
     "name": "stdout",
     "output_type": "stream",
     "text": [
      "Portfolio 1\n",
      "weights = [[0.05030877 0.12979729 0.02500862 0.79488532]]\n",
      "return = 0.006143974980755603\n",
      "risk = 0.01742209834422105\n",
      "\n",
      "Portfolio 2\n",
      "weights = [[ 0.05603262  0.28803787 -0.08196382  0.73789333]]\n",
      "return = 0.006930755751137507\n",
      "risk = 0.018504017848244802\n",
      "\n",
      "Portfolio 3\n",
      "weights = [[ 0.0531707   0.20891758 -0.0284776   0.76638933]]\n",
      "return = 0.006537365365946555\n",
      "risk = 0.017698779680215895\n",
      "\n",
      "Portfolio 4\n",
      "weights = [[ 0.06175648  0.44627844 -0.18893625  0.68090133]]\n",
      "return = 0.007717536521519411\n",
      "risk = 0.021424429373159963\n",
      "\n",
      "Portfolio 5\n",
      "weights = [[ 0.05889455  0.36715815 -0.13545003  0.70939733]]\n",
      "return = 0.007324146136328458\n",
      "risk = 0.019773344021528777\n",
      "\n",
      "Portfolio 6\n",
      "weights = [[0.04744684 0.050677   0.07849483 0.82338132]]\n",
      "return = 0.005750584595564652\n",
      "risk = 0.0176987796802159\n",
      "\n",
      "Portfolio 7\n",
      "weights = [[ 0.04458491 -0.02844328  0.13198105  0.85187732]]\n",
      "return = 0.0053571942103736985\n",
      "risk = 0.018504017848244805\n"
     ]
    }
   ],
   "source": [
    "# 3. Efficicent frontier (calculate the weights, returns and risk of at\n",
    "# least 7 portfolios)\n",
    "# Note that only the portfolios with returns above the MVP return are\n",
    "# on the efficient frontier\n",
    "\n",
    "# Portfolio 1: Let l1 = 0. This portfolio lies on the MVL.\n",
    "print(\"Portfolio 1\")\n",
    "w1 = np.matmul(u, C_inv)\n",
    "w1 = w1/np.sum(w1) #normalize\n",
    "print(\"weights =\", w1)\n",
    "r1 = np.matmul(w1,m.transpose())\n",
    "r1 = r1[0,0]\n",
    "print(\"return =\", r1)\n",
    "var1 = np.matmul(w1,np.matmul(C,w1.transpose()))\n",
    "sigma1 = np.sqrt(var1)[0,0]\n",
    "print(\"risk =\", sigma1)\n",
    "\n",
    "# Portfolio 2: Let l2 = 0. This portfolio lies on the MVL.\n",
    "print(\"\\nPortfolio 2\")\n",
    "w2 = np.matmul(m, C_inv)\n",
    "w2 = w2/np.sum(w2)\n",
    "print(\"weights =\", w2)\n",
    "r2 = np.matmul(w2,m.transpose())[0,0]\n",
    "print(\"return =\", r2)\n",
    "var2 = np.matmul(w2,np.matmul(C,w2.transpose()))\n",
    "sigma2 = np.sqrt(var2)[0,0]\n",
    "print(\"risk =\", sigma2)\n",
    "\n",
    "# Portfolio 3: Combine Portfolios 1 and 2 using weights [0.5, 0.5]\n",
    "print(\"\\nPortfolio 3\")\n",
    "w3 = 0.5*w1 + 0.5*w2\n",
    "print(\"weights =\", w3)\n",
    "r3 = np.matmul(w3,m.transpose())[0,0]\n",
    "print(\"return =\", r3)\n",
    "var3 = np.matmul(w3,np.matmul(C,w3.transpose()))\n",
    "sigma3 = np.sqrt(var3)[0,0]\n",
    "print(\"risk =\", sigma3)\n",
    "\n",
    "# Portfolio 4: Combine Portfolios 1 and 2 using weights [-1, 2]\n",
    "print(\"\\nPortfolio 4\")\n",
    "w4 = -1*w1 + 2*w2\n",
    "print(\"weights =\", w4)\n",
    "r4 = np.matmul(w4,m.transpose())[0,0]\n",
    "print(\"return =\", r4)\n",
    "var4 = np.matmul(w4,np.matmul(C,w4.transpose()))\n",
    "sigma4 = np.sqrt(var4)[0,0]\n",
    "print(\"risk =\", sigma4)\n",
    "\n",
    "# Portfolio 5: Combine Portfolios 1 and 2 using weights [-.5, 1.5]\n",
    "print(\"\\nPortfolio 5\")\n",
    "w5 = -.5*w1 + 1.5*w2\n",
    "print(\"weights =\", w5)\n",
    "r5 = np.matmul(w5,m.transpose())[0,0]\n",
    "print(\"return =\", r5)\n",
    "var5 = np.matmul(w5,np.matmul(C,w5.transpose()))\n",
    "sigma5 = np.sqrt(var5)[0,0]\n",
    "print(\"risk =\", sigma5)\n",
    "\n",
    "# Portfolio 6: Combine Portfolios 1 and 2 using weights [1.5, -.5]\n",
    "print(\"\\nPortfolio 6\")\n",
    "w6 = 1.5*w1 - .5*w2\n",
    "print(\"weights =\", w6)\n",
    "r6 = np.matmul(w6,m.transpose())[0,0]\n",
    "print(\"return =\", r6)\n",
    "var6 = np.matmul(w6,np.matmul(C,w6.transpose()))\n",
    "sigma6 = np.sqrt(var6)[0,0]\n",
    "print(\"risk =\", sigma6)\n",
    "\n",
    "# Portfolio 7: Combine Portfolios 1 and 2 using weights [2, -1]\n",
    "print(\"\\nPortfolio 7\")\n",
    "w7 = 2*w1 - 1*w2\n",
    "print(\"weights =\", w7)\n",
    "r7 = np.matmul(w7,m.transpose())[0,0]\n",
    "print(\"return =\", r7)\n",
    "var7 = np.matmul(w7,np.matmul(C,w7.transpose()))\n",
    "sigma7 = np.sqrt(var7)[0,0]\n",
    "print(\"risk =\", sigma7)"
   ]
  },
  {
   "cell_type": "code",
   "execution_count": 90,
   "metadata": {},
   "outputs": [
    {
     "data": {
      "text/plain": [
       "Text(0, 0.5, 'Return')"
      ]
     },
     "execution_count": 90,
     "metadata": {},
     "output_type": "execute_result"
    },
    {
     "data": {
      "image/png": "[encoded data removed]",
      "text/plain": [
       "<Figure size 432x288 with 1 Axes>"
      ]
     },
     "metadata": {
      "needs_background": "light"
     },
     "output_type": "display_data"
    }
   ],
   "source": [
    "# 4. Plot the portfolios and asset classes on a graph\n",
    "plt.plot([sigma, sigma1, sigma2], [r, r1, r2], 'ro')\n",
    "plt.plot([sigma3, sigma4, sigma5, sigma6, sigma7], [r3, r4, r5, r6, r7], 'o')\n",
    "plt.xlabel('Risk')\n",
    "plt.ylabel('Return')"
   ]
  },
  {
   "cell_type": "code",
   "execution_count": 91,
   "metadata": {
    "scrolled": true
   },
   "outputs": [
    {
     "data": {
      "text/plain": [
       "Text(0, 0.5, 'Return')"
      ]
     },
     "execution_count": 91,
     "metadata": {},
     "output_type": "execute_result"
    },
    {
     "data": {
      "image/png": "[encoded data removed]",
      "text/plain": [
       "<Figure size 432x288 with 1 Axes>"
      ]
     },
     "metadata": {
      "needs_background": "light"
     },
     "output_type": "display_data"
    }
   ],
   "source": [
    "# 5. Plot an equal weighted portolio on the graph\n",
    "\n",
    "w0 = [.25, .25, .25, .25]\n",
    "w0 = w0/np.sum(w0) #normalize\n",
    "#print(\"weights =\", w0)\n",
    "r0 = np.matmul(w0,m.transpose())\n",
    "#print(\"return =\", r0)\n",
    "var0 = np.matmul(w0,np.matmul(C,w0.transpose()))\n",
    "sigma0 = np.sqrt(var0)\n",
    "#print(\"risk =\", sigma0)\n",
    "\n",
    "plt.plot([sigma0, sigma1, sigma2, sigma3, sigma4, sigma5, sigma6, sigma7], [r0, r1, r2, r3, r4, r5, r6, r7], 'o')\n",
    "plt.xlabel('Risk')\n",
    "plt.ylabel('Return')"
   ]
  },
  {
   "cell_type": "code",
   "execution_count": 92,
   "metadata": {},
   "outputs": [
    {
     "name": "stdout",
     "output_type": "stream",
     "text": [
      "return = 0.006143974980755603\n",
      "risk = 0.01742209834422105\n"
     ]
    }
   ],
   "source": [
    "# 6. What is the expected return and risk of the minimum variance portfolio\n",
    "print(\"return =\", r)\n",
    "print(\"risk =\", sigma)"
   ]
  },
  {
   "cell_type": "markdown",
   "metadata": {},
   "source": [
    "## <span style=\"color:blue\">Part 5: Calculate the beta (t-stat, R-square) of each the risk asset class to the following 2 'market' portfolios   </span>\n",
    "\n",
    "  Market Portfolio 1: \"MSCI AC WORLD\"    \n",
    "  Market Portfolio 2: \"MSCI USA\"\n",
    "  \n",
    "  Compare the betas for each asset class\n"
   ]
  },
  {
   "cell_type": "code",
   "execution_count": 93,
   "metadata": {},
   "outputs": [
    {
     "name": "stdout",
     "output_type": "stream",
     "text": [
      "MSCI EUROPE - MSCI AC WORLD\n",
      "beta:  1.0524949617626282\n",
      "t-stat:  42.45139757980733\n",
      "R-square:  0.8389290106116958\n",
      "\n",
      "MSCI EUROPE - MSCI USA\n",
      "beta:  0.9450188010082932\n",
      "t-stat:  23.318178621494766\n",
      "R-square:  0.6111212376669082\n",
      "\n",
      "MSCI USA - MSCI AC WORLD\n",
      "beta:  0.844740090482762\n",
      "t-stat:  36.049860786202096\n",
      "R-square:  0.7897413801766296\n",
      "\n",
      "MSCI USA - MSCI USA\n",
      "beta:  1.0000000000000004\n",
      "t-stat:  4.090673825338503e+16\n",
      "R-square:  1.0\n",
      "\n",
      "MSCI PACIFIC - MSCI AC WORLD\n",
      "beta:  1.0381429110559721\n",
      "t-stat:  25.43635860866189\n",
      "R-square:  0.6515638526712682\n",
      "\n",
      "MSCI PACIFIC - MSCI USA\n",
      "beta:  0.7288630276695542\n",
      "t-stat:  11.893718695090595\n",
      "R-square:  0.29019896281587776\n",
      "\n",
      "Treasury.Bond.10Y - MSCI AC WORLD\n",
      "beta:  -0.039841871626824094\n",
      "t-stat:  -1.6276065358566256\n",
      "R-square:  0.007598192602529363\n",
      "\n",
      "Treasury.Bond.10Y - MSCI USA\n",
      "beta:  -0.022787414124747357\n",
      "t-stat:  -0.882505458999167\n",
      "R-square:  0.002245857732616763\n",
      "\n",
      "beta from textbook for Treasury.Bond.10Y: -0.02278741412474732\n"
     ]
    }
   ],
   "source": [
    "import statsmodels.api as sm\n",
    "world = sm.add_constant(indata[\"MSCI AC WORLD\"])\n",
    "usa = sm.add_constant(indata[\"MSCI USA\"])\n",
    "\n",
    "# MSCI EUROPE\n",
    "print(\"MSCI EUROPE - MSCI AC WORLD\")\n",
    "model = sm.OLS(indata[\"MSCI EUROPE\"], world)\n",
    "results = model.fit()\n",
    "print('beta: ', (results.params).tolist()[1])\n",
    "print('t-stat: ', (results.tvalues).tolist()[1])\n",
    "print('R-square: ', results.rsquared)\n",
    "\n",
    "print(\"\\nMSCI EUROPE - MSCI USA\")\n",
    "model = sm.OLS(indata[\"MSCI EUROPE\"], usa)\n",
    "results = model.fit()\n",
    "print('beta: ', (results.params).tolist()[1])\n",
    "print('t-stat: ', (results.tvalues).tolist()[1])\n",
    "print('R-square: ', results.rsquared)\n",
    "\n",
    "# MSCI USA\n",
    "print(\"\\nMSCI USA - MSCI AC WORLD\")\n",
    "model = sm.OLS(indata[\"MSCI USA\"], world)\n",
    "results = model.fit()\n",
    "print('beta: ', (results.params).tolist()[1])\n",
    "print('t-stat: ', (results.tvalues).tolist()[1])\n",
    "print('R-square: ', results.rsquared)\n",
    "\n",
    "print(\"\\nMSCI USA - MSCI USA\")\n",
    "model = sm.OLS(indata[\"MSCI USA\"], usa)\n",
    "results = model.fit()\n",
    "print('beta: ', (results.params).tolist()[1])\n",
    "print('t-stat: ', (results.tvalues).tolist()[1])\n",
    "print('R-square: ', results.rsquared)\n",
    "\n",
    "# MSCI PACIFIC\n",
    "print(\"\\nMSCI PACIFIC - MSCI AC WORLD\")\n",
    "model = sm.OLS(indata[\"MSCI PACIFIC\"], world)\n",
    "results = model.fit()\n",
    "print('beta: ', (results.params).tolist()[1])\n",
    "print('t-stat: ', (results.tvalues).tolist()[1])\n",
    "print('R-square: ', results.rsquared)\n",
    "\n",
    "print(\"\\nMSCI PACIFIC - MSCI USA\")\n",
    "model = sm.OLS(indata[\"MSCI PACIFIC\"], usa)\n",
    "results = model.fit()\n",
    "print('beta: ', (results.params).tolist()[1])\n",
    "print('t-stat: ', (results.tvalues).tolist()[1])\n",
    "print('R-square: ', results.rsquared)\n",
    "\n",
    "# Treasury.Bond.10Y\n",
    "print(\"\\nTreasury.Bond.10Y - MSCI AC WORLD\")\n",
    "model = sm.OLS(indata[\"Treasury.Bond.10Y\"], world)\n",
    "results = model.fit()\n",
    "print('beta: ', (results.params).tolist()[1])\n",
    "print('t-stat: ', (results.tvalues).tolist()[1])\n",
    "print('R-square: ', results.rsquared)\n",
    "\n",
    "print(\"\\nTreasury.Bond.10Y - MSCI USA\")\n",
    "model = sm.OLS(indata[\"Treasury.Bond.10Y\"], usa)\n",
    "results = model.fit()\n",
    "print('beta: ', (results.params).tolist()[1])\n",
    "print('t-stat: ', (results.tvalues).tolist()[1])\n",
    "print('R-square: ', results.rsquared)\n",
    "\n",
    "# Check beta from textbook\n",
    "covariance = (indata[[\"Treasury.Bond.10Y\",\"MSCI USA\"]]).cov()\n",
    "C = covariance.to_numpy()[0,1]\n",
    "sigma2 = indata[\"MSCI USA\"].std()**2\n",
    "print('\\nbeta from textbook for Treasury.Bond.10Y:', C/sigma2)"
   ]
  }
 ],
 "metadata": {
  "kernelspec": {
   "display_name": "Python 3",
   "language": "python",
   "name": "python3"
  },
  "language_info": {
   "codemirror_mode": {
    "name": "ipython",
    "version": 3
   },
   "file_extension": ".py",
   "mimetype": "text/x-python",
   "name": "python",
   "nbconvert_exporter": "python",
   "pygments_lexer": "ipython3",
   "version": "3.8.3"
  }
 },
 "nbformat": 4,
 "nbformat_minor": 2
}
