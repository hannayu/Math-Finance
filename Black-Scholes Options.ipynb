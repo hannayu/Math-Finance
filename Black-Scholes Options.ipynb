{
 "cells": [
  {
   "cell_type": "markdown",
   "metadata": {},
   "source": [
    "#### Computing the price of European options"
   ]
  },
  {
   "cell_type": "code",
   "execution_count": 60,
   "metadata": {},
   "outputs": [],
   "source": [
    "from scipy.stats import norm\n",
    "import numpy as np\n",
    "\n",
    "t = 0/365     # Current time t\n",
    "S = 1.81        # Current stock price S(t)\n",
    "X = 1.8        # Strike price\n",
    "r = 0.05      # Interest rate (per annum works)\n",
    "sigma = 0.14   # Volatility (per annum works)\n",
    "T = 90/365       # Maturity time (years)"
   ]
  },
  {
   "cell_type": "code",
   "execution_count": 61,
   "metadata": {},
   "outputs": [
    {
     "name": "stdout",
     "output_type": "stream",
     "text": [
      "d_plus = 0.29179672604629103\n",
      "d_minus = 0.22227783140369212\n",
      "\n",
      "N(d_plus) = 0.6147789757003123\n",
      "N(d_minus) = 0.5879511957821427\n"
     ]
    }
   ],
   "source": [
    "# Calculate intermediate values\n",
    "d_denom = (sigma*((T-t)**0.5))\n",
    "d_plus = (np.log(S/X) + (r+0.5*(sigma)**2)*(T-t)) / d_denom\n",
    "d_minus = (np.log(S/X) + (r-0.5*(sigma)**2)*(T-t)) / d_denom\n",
    "\n",
    "print(\"d_plus =\", d_plus)\n",
    "print(\"d_minus =\", d_minus)\n",
    "\n",
    "print(\"\\nN(d_plus) =\", norm.cdf(d_plus))\n",
    "print(\"N(d_minus) =\", norm.cdf(d_minus))"
   ]
  },
  {
   "cell_type": "code",
   "execution_count": 62,
   "metadata": {},
   "outputs": [
    {
     "name": "stdout",
     "output_type": "stream",
     "text": [
      "price of European CALL option at time 0.0 = 0.06740537627307708\n",
      "price of European PUT option at time 0.0 = 0.03534983364233513\n",
      "Verify put with put-call parity: 0.035349833642335016\n"
     ]
    }
   ],
   "source": [
    "# Prices\n",
    "Ce = S*norm.cdf(d_plus) - X*np.exp(-r*(T-t))*norm.cdf(d_minus)\n",
    "Pe = -S*norm.cdf(-d_plus) + X*np.exp(-r*(T-t))*norm.cdf(-d_minus)\n",
    "print(\"price of European CALL option at time\", t, \"=\", Ce)\n",
    "print(\"price of European PUT option at time\", t, \"=\", Pe)\n",
    "\n",
    "PeVerify = Ce - S + X*np.exp(-r*T)\n",
    "print(\"Verify put with put-call parity:\", PeVerify)"
   ]
  },
  {
   "cell_type": "markdown",
   "metadata": {},
   "source": [
    "Function"
   ]
  },
  {
   "cell_type": "code",
   "execution_count": 63,
   "metadata": {},
   "outputs": [],
   "source": [
    "def price_call(t,S,X,r,sigma,T):\n",
    "    d_denom = (sigma*((T-t)**0.5))\n",
    "    d_plus = (np.log(S/X) + (r+0.5*(sigma)**2)*(T-t)) / d_denom\n",
    "    d_minus = (np.log(S/X) + (r-0.5*(sigma)**2)*(T-t)) / d_denom\n",
    "    return S*norm.cdf(d_plus) - X*np.exp(-r*(T-t))*norm.cdf(d_minus)\n",
    "\n",
    "def price_put(t,S,X,r,sigma,T):\n",
    "    d_denom = (sigma*((T-t)**0.5))\n",
    "    d_plus = (np.log(S/X) + (r+0.5*(sigma)**2)*(T-t)) / d_denom\n",
    "    d_minus = (np.log(S/X) + (r-0.5*(sigma)**2)*(T-t)) / d_denom\n",
    "    return -S*norm.cdf(-d_plus) + X*np.exp(-r*(T-t))*norm.cdf(-d_minus)"
   ]
  },
  {
   "cell_type": "markdown",
   "metadata": {},
   "source": [
    "#### Delta Hedging\n",
    "Proposition 8.13: Let Ce(S) be the price of a European call option in the Black-Scholes model. The delta of the option is\n",
    ">(d/dS)Ce(s) = N(d_plus)\n",
    "\n",
    "where N(x) is the standard normal cdf."
   ]
  },
  {
   "cell_type": "code",
   "execution_count": 40,
   "metadata": {},
   "outputs": [
    {
     "name": "stdout",
     "output_type": "stream",
     "text": [
      "delta of call at time 0: 0.6447001534487183\n"
     ]
    }
   ],
   "source": [
    "# Compute delta of European call option at t=0\n",
    "delta_option = norm.cdf(d_plus)\n",
    "print(\"delta of call at time 0:\", delta_option)"
   ]
  },
  {
   "cell_type": "code",
   "execution_count": 42,
   "metadata": {},
   "outputs": [
    {
     "name": "stdout",
     "output_type": "stream",
     "text": [
      "delta of put at time 0: -0.35529984655128166\n"
     ]
    }
   ],
   "source": [
    "# Compute delta of European put option at t=0\n",
    "delta_option = -norm.cdf(-d_plus)\n",
    "print(\"delta of put at time 0:\", delta_option)"
   ]
  },
  {
   "cell_type": "code",
   "execution_count": 64,
   "metadata": {},
   "outputs": [
    {
     "name": "stdout",
     "output_type": "stream",
     "text": [
      "The delta neutral portfolio with initial value 0 is\n",
      "x = -17764.992327564083 ,  y = 67764.99232756408 ,  z = -50000\n"
     ]
    }
   ],
   "source": [
    "# Construct a delta neutral portfolio with initial value 0\n",
    "num_options = 50000\n",
    "x = delta_option * num_options\n",
    "z = -1 * num_options\n",
    "#if hedge for call, y = -X*np.exp(-T*r)*norm.cdf(d_minus) * num_options\n",
    "y = -(delta_option-1) * num_options\n",
    "\n",
    "print(\"The delta neutral portfolio with initial value 0 is\")\n",
    "print(\"x =\", x, \",  y =\", y, \",  z =\", z)"
   ]
  },
  {
   "cell_type": "markdown",
   "metadata": {},
   "source": [
    "Function"
   ]
  },
  {
   "cell_type": "code",
   "execution_count": null,
   "metadata": {},
   "outputs": [],
   "source": [
    "def delta_neutral_call(num_options):\n",
    "    delta_option = norm.cdf(d_plus)\n",
    "    print(\"delta of call at time 0:\", delta_option)\n",
    "    x = delta_option * num_options\n",
    "    z = -1 * num_options\n",
    "    y = -X*np.exp(-T*r)*norm.cdf(d_minus) * num_options\n",
    "    return [x,y,z]\n",
    "    \n",
    "def delta_neutral_put(num_options):\n",
    "    delta_option = -norm.cdf(-d_plus)\n",
    "    print(\"delta of put at time 0:\", delta_option)\n",
    "    x = delta_option * num_options\n",
    "    z = -1 * num_options\n",
    "    y = -(delta_option-1) * num_options\n",
    "    return [x,y,z]"
   ]
  },
  {
   "cell_type": "markdown",
   "metadata": {},
   "source": [
    "Exercise 8.9: Given the delta of the option at t=0, find the stock price on day 1 for which the delta hedging portfolio attains its maximum value"
   ]
  },
  {
   "cell_type": "code",
   "execution_count": 28,
   "metadata": {},
   "outputs": [
    {
     "data": {
      "text/plain": [
       "60.01032362959797"
      ]
     },
     "execution_count": 28,
     "metadata": {},
     "output_type": "execute_result"
    }
   ],
   "source": [
    "# Given the delta of the option.\n",
    "t = 1\n",
    "d_plus = norm.ppf(delta_option)  # Inverse standard normal cdf\n",
    "d_num = (d_plus * (sigma*((T-t)**0.5)))\n",
    "S = np.exp(d_num - (r+0.5*(sigma)**2)*(T-t))*X\n",
    "S"
   ]
  },
  {
   "cell_type": "code",
   "execution_count": 65,
   "metadata": {},
   "outputs": [],
   "source": [
    "# # Compute the value of the delta-neutral hedge with call at time t\n",
    "\n",
    "# # Values at time 0\n",
    "# S = 1.81        # Current stock price S(t)\n",
    "# X = 1.8        # Strike price\n",
    "# r = 0.05      # Interest rate (per annum works)\n",
    "# sigma = 0.14   # Volatility (per annum works)\n",
    "# T = 90/365       # Maturity time (years)\n",
    "\n",
    "# price_call(0,S,X,r,sigma,T)\n",
    "# [x,y,z] = delta_neutral_call(num_options)"
   ]
  },
  {
   "cell_type": "markdown",
   "metadata": {},
   "source": [
    "Exercise 8.11"
   ]
  },
  {
   "cell_type": "code",
   "execution_count": null,
   "metadata": {},
   "outputs": [],
   "source": [
    "# Compute the value of the delta-neutral hedge with call at time t\n",
    "\n",
    "S = 1.81        # Current stock price S(t)\n",
    "X = 1.8        # Strike price\n",
    "r = 0.05      # Interest rate (per annum works)\n",
    "sigma = 0.14   # Volatility (per annum works)\n",
    "T = 90/365       # Maturity time (years)\n",
    "\n",
    "[x,y,z] = delta_neutral_call(num_options)\n",
    "stock_value = \n",
    "money_value\n",
    "option_value"
   ]
  }
 ],
 "metadata": {
  "kernelspec": {
   "display_name": "Python 3",
   "language": "python",
   "name": "python3"
  },
  "language_info": {
   "codemirror_mode": {
    "name": "ipython",
    "version": 3
   },
   "file_extension": ".py",
   "mimetype": "text/x-python",
   "name": "python",
   "nbconvert_exporter": "python",
   "pygments_lexer": "ipython3",
   "version": "3.8.3"
  }
 },
 "nbformat": 4,
 "nbformat_minor": 4
}
